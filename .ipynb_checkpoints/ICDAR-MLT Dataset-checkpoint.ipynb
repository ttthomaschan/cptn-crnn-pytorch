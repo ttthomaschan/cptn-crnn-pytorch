{
 "cells": [
  {
   "cell_type": "code",
   "execution_count": 1,
   "id": "dietary-ontario",
   "metadata": {},
   "outputs": [
    {
     "name": "stdout",
     "output_type": "stream",
     "text": [
      " \u001b[0m\u001b[01;34mcheckpoints\u001b[0m/                               \u001b[01;34m__pycache__\u001b[0m/\r\n",
      " \u001b[01;32mdemo.py\u001b[0m*                                   \u001b[01;32mREADME.md\u001b[0m*\r\n",
      " \u001b[01;34mdetect\u001b[0m/                                    \u001b[01;34mrecognize\u001b[0m/\r\n",
      "'ICDAR-MLT Dataset.ipynb'                   \u001b[01;32mt1.jpg\u001b[0m*\r\n",
      "'image preparation.ipynb'                   \u001b[01;34mtest_images\u001b[0m/\r\n",
      " \u001b[01;32mLICENSE\u001b[0m*                                   \u001b[01;34mtest_images_bak\u001b[0m/\r\n",
      " \u001b[01;34mlog\u001b[0m/                                       \u001b[01;32mtest_one.py\u001b[0m*\r\n",
      " \u001b[01;32mocr.py\u001b[0m*                                    \u001b[01;34mtest_result\u001b[0m/\r\n",
      "'permute, view, reshape in Pytorch.ipynb'   \u001b[01;34mtrain_code\u001b[0m/\r\n"
     ]
    }
   ],
   "source": [
    "ls"
   ]
  },
  {
   "cell_type": "code",
   "execution_count": 6,
   "id": "smaller-substance",
   "metadata": {},
   "outputs": [
    {
     "name": "stdout",
     "output_type": "stream",
     "text": [
      "/home/elimen/Data\n"
     ]
    }
   ],
   "source": [
    "cd .."
   ]
  },
  {
   "cell_type": "code",
   "execution_count": null,
   "id": "thrown-treasury",
   "metadata": {},
   "outputs": [],
   "source": []
  }
 ],
 "metadata": {
  "kernelspec": {
   "display_name": "Python 3",
   "language": "python",
   "name": "python3"
  },
  "language_info": {
   "codemirror_mode": {
    "name": "ipython",
    "version": 3
   },
   "file_extension": ".py",
   "mimetype": "text/x-python",
   "name": "python",
   "nbconvert_exporter": "python",
   "pygments_lexer": "ipython3",
   "version": "3.7.9"
  }
 },
 "nbformat": 4,
 "nbformat_minor": 5
}
